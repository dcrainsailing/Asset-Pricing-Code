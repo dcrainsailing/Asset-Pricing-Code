{
 "cells": [
  {
   "cell_type": "code",
   "execution_count": 1,
   "metadata": {},
   "outputs": [],
   "source": [
    "import numpy as np\n",
    "import matplotlib.pyplot as plt"
   ]
  },
  {
   "cell_type": "markdown",
   "metadata": {},
   "source": [
    "(a)"
   ]
  },
  {
   "cell_type": "markdown",
   "metadata": {},
   "source": [
    "From a previous Homework,we find the optimal set of parameters $ \\sigma,\\nu_{0},\\kappa,\\rho,\\theta $ converges to [2.18,  0.05,  4.11, -0.8,  0.07]"
   ]
  },
  {
   "cell_type": "code",
   "execution_count": 2,
   "metadata": {},
   "outputs": [],
   "source": [
    "sigma = 1.9\n",
    "v0 = 0.05 \n",
    "k = 3.65\n",
    "rho = -0.8\n",
    "theta = 0.07\n",
    "q = 0.0177\n",
    "r = 0.015\n",
    "T = 1\n",
    "S0 =282\n",
    "K = 285"
   ]
  },
  {
   "cell_type": "markdown",
   "metadata": {},
   "source": [
    "(b)"
   ]
  },
  {
   "cell_type": "code",
   "execution_count": 3,
   "metadata": {},
   "outputs": [],
   "source": [
    "def simulation(sigma=2.18, v0=0.05, k=4.11, rho=-0.8, theta=0.07, q=0.0177, r=0.015, S0=282, T=1, steps=100, paths=10000):\n",
    "    S = np.zeros((steps + 1, paths))\n",
    "    S[0] = S0\n",
    "    v = np.zeros((steps + 1, paths))\n",
    "    v[0] = v0\n",
    "    dt = T / steps\n",
    "    N = paths\n",
    "    for t in range(1, steps + 1):\n",
    "        z1 = np.random.standard_normal(N)\n",
    "        z2 = np.random.standard_normal(N)\n",
    "        x1 = 0 + np.sqrt(dt)*z1\n",
    "        x2 = 0 + np.sqrt(dt)*(rho*z1 + np.sqrt(1-rho**2)*z2)\n",
    "        v[t] = np.maximum(v[t-1] + k*(theta-v[t-1])*dt + sigma*np.sqrt(v[t-1])*x2,0) # Truncate\n",
    "        #v[t] = np.abs(v[t-1] + k*(theta-v[t-1])*dt + sigma*np.sqrt(v[t-1])*x2) # Reflect\n",
    "        S[t] = S[t-1] + (r-q)*S[t-1]*dt + np.sqrt(v[t-1])*S[t-1]*x1\n",
    "#     X = np.linspace(0, 1, steps + 1, endpoint=True)\n",
    "#     for i in range(N):\n",
    "#         plt.plot(X, S[:, i])\n",
    "#     plt.show()\n",
    "    M = [max(S[:,i]) for i in range(N)]\n",
    "    return S,M"
   ]
  },
  {
   "cell_type": "code",
   "execution_count": 4,
   "metadata": {},
   "outputs": [],
   "source": [
    "S,M = simulation(sigma=sigma,v0=v0,k=k,rho=rho,q=q,r=r,S0=S0)"
   ]
  },
  {
   "cell_type": "code",
   "execution_count": 5,
   "metadata": {},
   "outputs": [],
   "source": [
    "def calc_simulated_price(r,T,S,K):\n",
    "    payoff = np.maximum(S[-1] - K,0)\n",
    "    return np.exp(-(r+q)*T) * np.mean(payoff)"
   ]
  },
  {
   "cell_type": "code",
   "execution_count": 6,
   "metadata": {},
   "outputs": [
    {
     "name": "stdout",
     "output_type": "stream",
     "text": [
      "24.55846851472905\n"
     ]
    }
   ],
   "source": [
    "c0 = calc_simulated_price(r,T,S,K)\n",
    "print(c0)"
   ]
  },
  {
   "cell_type": "markdown",
   "metadata": {},
   "source": [
    "(c)"
   ]
  },
  {
   "cell_type": "code",
   "execution_count": 7,
   "metadata": {},
   "outputs": [],
   "source": [
    "#FFT\n",
    "def characteristic_function(u,t,sigma=0.2,v0=0.08,k=0.7,rho=-0.4,theta=0.1,r=0.02,S0=250,q=0):\n",
    "    Lambda = np.sqrt((sigma ** 2) * (complex(u ** 2, u)) + (complex(k, -rho * sigma * u)) ** 2)\n",
    "    omega = np.exp(complex(0, u * (np.log(S0) + (r - q) * t)) + k * theta * t * complex(k, -rho * sigma * u) / sigma ** 2) \\\n",
    "            / (np.cosh(Lambda * t / 2) + (complex(k, -rho * sigma * u) / Lambda) * np.sinh(Lambda * t / 2)) ** (2 * k * theta / sigma ** 2)\n",
    "    phi = omega * np.exp(-(complex(u ** 2, u)) * v0 / (Lambda / np.tanh(Lambda * t / 2) + complex(k, -rho * sigma * u)))\n",
    "    return phi\n",
    "\n",
    "\n",
    "def fft(K=250, n=10, alpha=1, UB=500, t=0.5, sigma=0.2, v0=0.08, k=.7, rho=-0.4, theta=0.1, r=0.015, q=0.0177,\n",
    "        S0=267.15):\n",
    "    N = 2 ** n\n",
    "    B = UB\n",
    "\n",
    "    v = np.linspace(0, B, N + 1)[0:-1]\n",
    "    delta_v = B / N\n",
    "\n",
    "    delta_k = 2 * np.pi / B\n",
    "    beta = np.log(S0) - delta_k * N / 2\n",
    "    km = beta + (np.linspace(0, N, N + 1)[0:-1]) * delta_k\n",
    "\n",
    "    x = []\n",
    "    for j in range(N):\n",
    "        if j == 0:\n",
    "            wj = 0.5\n",
    "        else:\n",
    "            wj = 1\n",
    "\n",
    "        phi = characteristic_function(complex(v[j], -(alpha + 1)), t, sigma, v0, k, rho, theta, r, S0, q)\n",
    "        xj = phi * np.exp(complex(0, -beta) * v[j]) * wj * delta_v / \\\n",
    "             (complex(alpha, v[j])) / complex(alpha + 1, v[j])\n",
    "        x.append(xj)\n",
    "    x = np.array(x) * np.exp(-r * t)\n",
    "    y = np.fft.fft(x)\n",
    "\n",
    "    call_price = []\n",
    "    for j in range(N):\n",
    "        c = np.exp(-alpha * (np.log(S0) - delta_k * (N / 2 - j))) * np.real(y[j]) / np.pi\n",
    "        call_price.append(c)\n",
    "\n",
    "    return np.exp(km), call_price\n",
    "\n",
    "def call_price(sigma, v0, k, rho, theta,K=250,n=10,alpha=1,UB=600,t=0.5,r = 0.015,q = 0.0177,S0 = 267.15):\n",
    "    K_list, price_list = fft(K,n,alpha,UB,t,sigma, v0, k, rho, theta,r,q,S0)\n",
    "    return np.interp(K, K_list, price_list)"
   ]
  },
  {
   "cell_type": "code",
   "execution_count": 8,
   "metadata": {},
   "outputs": [
    {
     "name": "stdout",
     "output_type": "stream",
     "text": [
      "18.523241425992904\n"
     ]
    }
   ],
   "source": [
    "c = call_price(sigma=sigma, v0=v0, k=k, rho=rho, theta=theta,K=K,n=10,alpha=1,UB=600,t=T,r =r,q=q,S0=S0)\n",
    "print(c)"
   ]
  },
  {
   "cell_type": "markdown",
   "metadata": {},
   "source": [
    "(d)"
   ]
  },
  {
   "cell_type": "code",
   "execution_count": 9,
   "metadata": {},
   "outputs": [
    {
     "data": {
      "text/plain": [
       "array([[282.        , 282.        , 282.        , ..., 282.        ,\n",
       "        282.        , 282.        ],\n",
       "       [274.76894579, 285.44101446, 275.1948234 , ..., 276.25000647,\n",
       "        283.1208442 , 282.33285733],\n",
       "       [281.36380263, 277.25675866, 276.1938813 , ..., 270.35049365,\n",
       "        282.42437314, 281.73430153],\n",
       "       ...,\n",
       "       [247.04984827, 287.35186776, 348.33992169, ..., 224.79679766,\n",
       "        242.8930044 , 323.88981005],\n",
       "       [249.30406366, 300.68543394, 348.48274941, ..., 224.79072814,\n",
       "        241.06968775, 323.83416859],\n",
       "       [247.6837165 , 300.67731543, 348.44224231, ..., 224.64216035,\n",
       "        233.29315747, 327.30072516]])"
      ]
     },
     "execution_count": 9,
     "metadata": {},
     "output_type": "execute_result"
    }
   ],
   "source": [
    "S"
   ]
  },
  {
   "cell_type": "code",
   "execution_count": 10,
   "metadata": {},
   "outputs": [],
   "source": [
    "def up_and_out(r,T,S,M,K1,K2):\n",
    "    payoff = np.maximum(S[-1] - K1,0)\n",
    "    sign = [m<K2 for m in M]\n",
    "    return np.exp(-(r+q)*T)*np.mean(payoff*sign)"
   ]
  },
  {
   "cell_type": "code",
   "execution_count": 20,
   "metadata": {},
   "outputs": [
    {
     "name": "stdout",
     "output_type": "stream",
     "text": [
      "1.3091576347413627\n"
     ]
    }
   ],
   "source": [
    "K1 = 285\n",
    "K2 = 315\n",
    "c1 = up_and_out(r,T,S,M,K1,K2)\n",
    "print(c1)"
   ]
  },
  {
   "cell_type": "markdown",
   "metadata": {},
   "source": [
    "(e)"
   ]
  },
  {
   "cell_type": "code",
   "execution_count": 12,
   "metadata": {},
   "outputs": [],
   "source": [
    "def control_variate(r,T,S,M,K1,K2):\n",
    "    payoff = np.maximum(S[-1] - K1,0)\n",
    "    sign = [m<K2 for m in M]\n",
    "    hx = payoff*sign\n",
    "    Z = np.maximum(S[-1] - K1,0)\n",
    "    c = -np.cov(hx,Z)[0][1]/np.var(Z)\n",
    "    theta_hat = hx + c*(Z-np.mean(Z))\n",
    "    return np.exp(-(r+q)*T)*np.mean(theta_hat)"
   ]
  },
  {
   "cell_type": "code",
   "execution_count": 13,
   "metadata": {},
   "outputs": [
    {
     "name": "stdout",
     "output_type": "stream",
     "text": [
      "1.3379935094701219\n"
     ]
    }
   ],
   "source": [
    "c2 =control_variate(r,T,S,M,K1,K2)\n",
    "print(c2)"
   ]
  },
  {
   "cell_type": "code",
   "execution_count": 21,
   "metadata": {},
   "outputs": [
    {
     "name": "stdout",
     "output_type": "stream",
     "text": [
      "-1.02560833224072\n",
      "-1.1266503587920917\n",
      "-1.0744594644717205\n"
     ]
    },
    {
     "data": {
      "image/png": "[encoded data removed]",
      "text/plain": [
       "<Figure size 432x288 with 1 Axes>"
      ]
     },
     "metadata": {
      "needs_background": "light"
     },
     "output_type": "display_data"
    }
   ],
   "source": [
    "K1 = 285\n",
    "K2 = 500\n",
    "Theta = []\n",
    "Theta_hat = []\n",
    "N = [10**i for i in range(3,6)]\n",
    "times = 10\n",
    "j = 0\n",
    "i = 0\n",
    "theta = []\n",
    "z = []\n",
    "while j <len(N):\n",
    "    n = N[j]\n",
    "    i = 0\n",
    "    while i<times:\n",
    "        S,M = simulation(sigma=sigma,v0=v0,k=k,rho=rho,q=q,r=r,S0=S0,T=T,paths=n)\n",
    "        hx = np.maximum(S[-1] - K1,0)*[m<K2 for m in M]\n",
    "        theta += [np.mean(hx)]\n",
    "        euro_call = np.mean(np.maximum(S[-1] - K1,0))\n",
    "        z += [euro_call]\n",
    "        i += 1\n",
    "    c = -np.cov(theta,z)[0][1]/np.var(z)\n",
    "    print(c)\n",
    "    theta_hat = theta + c*(z-np.mean(z))\n",
    "    Theta.append(np.var(theta))\n",
    "    Theta_hat.append(np.var(theta_hat))\n",
    "    j += 1\n",
    "    theta.clear()\n",
    "    z.clear()\n",
    "plt.plot(N,Theta)\n",
    "plt.plot(N,Theta_hat)\n",
    "plt.show()"
   ]
  },
  {
   "cell_type": "code",
   "execution_count": null,
   "metadata": {},
   "outputs": [],
   "source": []
  },
  {
   "cell_type": "code",
   "execution_count": null,
   "metadata": {},
   "outputs": [],
   "source": []
  }
 ],
 "metadata": {
  "kernelspec": {
   "display_name": "Python 3",
   "language": "python",
   "name": "python3"
  },
  "language_info": {
   "codemirror_mode": {
    "name": "ipython",
    "version": 3
   },
   "file_extension": ".py",
   "mimetype": "text/x-python",
   "name": "python",
   "nbconvert_exporter": "python",
   "pygments_lexer": "ipython3",
   "version": "3.7.3"
  }
 },
 "nbformat": 4,
 "nbformat_minor": 2
}
