{
 "cells": [
  {
   "cell_type": "markdown",
   "metadata": {},
   "source": [
    "# MF 796 Homework 2\n",
    "Due: Wednesday, February 5, 2020 by 8 am.\n",
    "\n",
    "U71725017\n",
    "\n",
    "Chang Deng\n",
    "\n",
    "dengc@bu.edu"
   ]
  },
  {
   "cell_type": "code",
   "execution_count": 48,
   "metadata": {},
   "outputs": [],
   "source": [
    "import numpy as np\n",
    "import matplotlib.pyplot as plt\n",
    "from scipy import stats\n",
    "from pandas_datareader import data as pdr\n",
    "import yfinance as yf\n",
    "from sympy import *\n",
    "from sympy import exp,pi\n",
    "import time"
   ]
  },
  {
   "cell_type": "markdown",
   "metadata": {},
   "source": [
    "# Problem  1:   Evaluation  of  a  known  integral  using  various  quadratures:   \n",
    "\n",
    "In this problem   we are going to compute the price of a European call option with 3 month expiry, strike 12, and implied vol 20, Assume the underlying is 10 now and the interest rate is 4%."
   ]
  },
  {
   "cell_type": "markdown",
   "metadata": {},
   "source": [
    "1.\tUse Black-Scholes formula to compute the price of the call analytically."
   ]
  },
  {
   "cell_type": "markdown",
   "metadata": {},
   "source": [
    "Using Black-Sholes formula, the price of the call is calculated by"
   ]
  },
  {
   "cell_type": "markdown",
   "metadata": {},
   "source": [
    "$c_{0}=\\Phi\\left(d_{1}\\right) S_{0}-\\Phi\\left(d_{2}\\right) K e^{-r T}$"
   ]
  },
  {
   "cell_type": "markdown",
   "metadata": {},
   "source": [
    "$\\Phi(d)=\\frac{1}{\\sqrt{2 \\pi}} \\int_{-\\infty}^{d} e^{- x^{2}/ 2 } d x$"
   ]
  },
  {
   "cell_type": "markdown",
   "metadata": {},
   "source": [
    "$\\begin{aligned} d_{1}=& \\frac{1}{\\sigma \\sqrt{T}}\\left(\\ln \\frac{S_{0}}{K}+\\left(r+\\frac{\\sigma^{2}}{2}\\right) T\\right) \\\\ d_{2}=& d_{1}-\\sigma \\sqrt{T} \\end{aligned}$"
   ]
  },
  {
   "cell_type": "code",
   "execution_count": 15,
   "metadata": {},
   "outputs": [],
   "source": [
    "def calc_formula_price(S0,K,r,sigma,T):\n",
    "    d1 = (np.log(S0 / K) + (r + (sigma ** 2) / 2) * T) / (sigma * np.sqrt(T))\n",
    "    d2 = d1 - sigma * np.sqrt(T)\n",
    "    return S0 * stats.norm.cdf(d1, 0, 1) - K * np.exp(-r*T) * stats.norm.cdf(d2, 0, 1)"
   ]
  },
  {
   "cell_type": "code",
   "execution_count": 16,
   "metadata": {},
   "outputs": [
    {
     "name": "stdout",
     "output_type": "stream",
     "text": [
      "0.018815171090722893\n"
     ]
    }
   ],
   "source": [
    "S0,r,sigma,T,K = 10,0.04,0.2,3/12,12\n",
    "fp = calc_formula_price(S0,K,r,sigma,T)\n",
    "print(fp)"
   ]
  },
  {
   "cell_type": "markdown",
   "metadata": {},
   "source": [
    "As a result, the price is 0.018815171090722893."
   ]
  },
  {
   "cell_type": "markdown",
   "metadata": {},
   "source": [
    "2.\tCalculate the price of the call numerically using the following 3 quadrature methods:\n",
    "(a)\tLeft Riemann rule\n",
    "(b)\tMidpoint rule\n",
    "(c)\tGauss nodes of your choice (say explicitly why you made that choice)\n",
    "with the number of nodes N = 5, 10, 50, 100 and compute the calculation error as a function of N for each of the methods."
   ]
  },
  {
   "cell_type": "markdown",
   "metadata": {},
   "source": [
    "$\\Phi(d)=\\int_{-\\infty}^{d} \\frac{e^{-\\left(\\frac{x^{2}}{2}\\right)}}{\\sqrt{2 \\pi}} d x$,and in this case,$f(x)=\\frac{e^{-\\left(\\frac{x^{2}}{2}\\right)}}{\\sqrt{2 \\pi}}$ for all 3 quadrature methods.\n",
    "The calculation error of 3 quadrature methods to N are shown below."
   ]
  },
  {
   "cell_type": "markdown",
   "metadata": {},
   "source": [
    "Here we choose np.polynomial.legendre.leggauss to generate the Gauss nodes."
   ]
  },
  {
   "cell_type": "code",
   "execution_count": 17,
   "metadata": {},
   "outputs": [],
   "source": [
    "def left_Riemann_sum(a,b,N,func):\n",
    "    '''\n",
    "    :param a: left point\n",
    "    :param b: right point\n",
    "    :param N: number of nodes\n",
    "    :return:\n",
    "    '''\n",
    "    w = (b-a)/N\n",
    "    sum = 0\n",
    "    for i in np.arange(1,N+1,1):\n",
    "        x = a + (i-1)*(b-a)/N\n",
    "        sum += w*(func(x))\n",
    "    return sum\n",
    "\n",
    "def midpoint_Riemann_sum(a,b,N,func):\n",
    "    '''\n",
    "        :param a: left point\n",
    "        :param b: right point\n",
    "        :param N: number of nodes\n",
    "        :return:\n",
    "        '''\n",
    "    w = (b - a) / N\n",
    "    sum = 0\n",
    "    for i in np.arange(1, N + 1, 1):\n",
    "        x = a + (i - 1) * (b - a) / N + 0.5*(b - a)/N\n",
    "        sum += w * (func(x))\n",
    "    return sum\n",
    "\n",
    "def gauss_node(a,b,N,func):\n",
    "    x, w = np.polynomial.legendre.leggauss(N) #defauly interval in [-1,1], outcome w and x need to adjust accodring to [a,b]\n",
    "    w = w * (b-a)/2 # (b-a)/(1-(-1))\n",
    "    x = (x+1)*(b-a)/2 + a # x+1 -> [0,2] -> (x+1)*(b-a)/2 -> [0,b-a] -> (x+1)*(b-a)/2 +a -> [a,b]\n",
    "    sum = 0\n",
    "    for i in np.arange(0, N, 1):\n",
    "        sum += func(x[i])*w[i]\n",
    "    return sum"
   ]
  },
  {
   "cell_type": "code",
   "execution_count": 18,
   "metadata": {},
   "outputs": [],
   "source": [
    "lower = 0 - 7 * 1  # standard normal distribution\n",
    "fn = lambda x: np.exp((-1 / 2) * x ** 2) / np.sqrt(2 * np.pi)"
   ]
  },
  {
   "cell_type": "code",
   "execution_count": 19,
   "metadata": {},
   "outputs": [],
   "source": [
    "d1 = (np.log(S0 / K) + (r + (sigma ** 2) / 2) * T) / (sigma * np.sqrt(T))\n",
    "d2 = d1 - sigma * np.sqrt(T)\n",
    "le_n = []\n",
    "mid_n = []\n",
    "gauss_n = []"
   ]
  },
  {
   "cell_type": "code",
   "execution_count": 20,
   "metadata": {},
   "outputs": [],
   "source": [
    "for n in [5,10,50,100]:\n",
    "    c1 = S0 * left_Riemann_sum(lower, d1, n, fn) - K * np.exp(-r * T) * left_Riemann_sum(lower, d2, n, fn)\n",
    "    le_n.append(abs(fp - c1))\n",
    "    c2 = S0 * midpoint_Riemann_sum(lower, d1, n, fn) - K * np.exp(-r * T) * midpoint_Riemann_sum(lower, d2, n, fn)\n",
    "    mid_n.append(abs(fp - c2))\n",
    "    c3 = S0 * gauss_node(lower, d1, n, fn) - K * np.exp(-r * T) * gauss_node(lower, d2, n, fn)\n",
    "    gauss_n.append(abs(fp - c3))"
   ]
  },
  {
   "cell_type": "code",
   "execution_count": 21,
   "metadata": {},
   "outputs": [
    {
     "data": {
      "image/png": "[encoded data removed]",
      "text/plain": [
       "<Figure size 432x288 with 1 Axes>"
      ]
     },
     "metadata": {
      "needs_background": "light"
     },
     "output_type": "display_data"
    }
   ],
   "source": [
    "plt.plot([5, 10, 50, 100], le_n, label='Left_Riemann normal')\n",
    "plt.plot([5, 10, 50, 100], mid_n, label='Midepoint normal')\n",
    "plt.plot([5, 10, 50, 100], gauss_n, label='Gauss node normal')\n",
    "plt.legend()\n",
    "plt.show()"
   ]
  },
  {
   "cell_type": "markdown",
   "metadata": {},
   "source": [
    "Approximation above invovle estimating $\\Phi\\left(d_{1}\\right)$ and $\\Phi\\left(d_{2}\\right)$ separately. However, by solving Black-Shole formula we have $S_T  = S_0 e^{(r-\\frac{1}{2}\\sigma^2)t +\\sigma W_t} $"
   ]
  },
  {
   "cell_type": "markdown",
   "metadata": {},
   "source": [
    "In that sense, $ln(S_T/S_0) \\sim N((r-\\frac{1}{2}\\sigma^2)T, \\sigma^2T), so $(S_T/S_0) is log-normal distribution where $f(x) = \\frac{1}{u\\sigma\\sqrt{2\\pi}} e^{-\\frac{(log(u)-\\mu)^2}{2\\sigma^2}}$ for all 3 quadrature methods."
   ]
  },
  {
   "cell_type": "code",
   "execution_count": 22,
   "metadata": {},
   "outputs": [],
   "source": [
    "u = (r - (sigma ** 2) / 2) * T\n",
    "s = sigma * np.sqrt(T)\n",
    "mu = np.exp(u + (s ** 2) / 2)\n",
    "v = np.sqrt(np.exp(2 * mu + s ** 2) * (np.exp(s ** 2) - 1))"
   ]
  },
  {
   "cell_type": "code",
   "execution_count": 23,
   "metadata": {},
   "outputs": [],
   "source": [
    "left = K/S0\n",
    "right = mu + 3*v\n",
    "le = []\n",
    "mid = []\n",
    "gauss = []"
   ]
  },
  {
   "cell_type": "code",
   "execution_count": 24,
   "metadata": {},
   "outputs": [],
   "source": [
    "f = lambda x : (x*S0 - K)*np.exp(-(np.log(x)-u)**2/(2*(s**2)))/(x*s*np.sqrt(2*np.pi))"
   ]
  },
  {
   "cell_type": "code",
   "execution_count": 25,
   "metadata": {},
   "outputs": [],
   "source": [
    "for n in [5,10,50,100]:\n",
    "    le.append(abs(fp - left_Riemann_sum(left,right,n,f)*np.exp(-r*T)))\n",
    "    mid.append(abs(fp - midpoint_Riemann_sum(left,right,n,f)*np.exp(-r*T)))\n",
    "    gauss.append(abs(fp - gauss_node(left,right,n,f)*np.exp(-r*T)))"
   ]
  },
  {
   "cell_type": "code",
   "execution_count": 26,
   "metadata": {},
   "outputs": [
    {
     "data": {
      "image/png": "[encoded data removed]",
      "text/plain": [
       "<Figure size 432x288 with 1 Axes>"
      ]
     },
     "metadata": {
      "needs_background": "light"
     },
     "output_type": "display_data"
    }
   ],
   "source": [
    "plt.plot([5,10,50,100],le,label='Left Riemann lognormal')\n",
    "plt.plot([5,10,50,100],mid,label='Midpoint lognormal')\n",
    "plt.plot([5, 10, 50, 100], gauss,label='Gauss node lognormal')\n",
    "plt.legend()\n",
    "plt.show()"
   ]
  },
  {
   "cell_type": "markdown",
   "metadata": {},
   "source": [
    "As N becomes large, the calculation error of particular method under different distribution is close, so we only apply lognormal distribution for the following problem."
   ]
  },
  {
   "cell_type": "markdown",
   "metadata": {},
   "source": [
    "3.\tEstimate the experimental rate of convergence of each method and compare it with the known theoretical estimate."
   ]
  },
  {
   "cell_type": "code",
   "execution_count": 27,
   "metadata": {},
   "outputs": [],
   "source": [
    "N_list = np.arange(5, 100, 1)\n",
    "Left_Error_list = []\n",
    "Mid_Error_list = []\n",
    "Gauss_Error_list = []\n",
    "\n",
    "On2_list = []\n",
    "On3_list = []\n",
    "Onn_list = []\n",
    "On2n_list = []"
   ]
  },
  {
   "cell_type": "code",
   "execution_count": 28,
   "metadata": {},
   "outputs": [],
   "source": [
    "for n in N_list:\n",
    "    Left_Error_list.append(abs(fp - left_Riemann_sum(left, right, n,f) * np.exp(-r * T)))\n",
    "    Mid_Error_list.append(abs(fp - midpoint_Riemann_sum(left,right,n,f)*np.exp(-r*T)))\n",
    "    \n",
    "    On2_list.append((1 / (n ** 2)) * (right - left) ** 3)\n",
    "    On3_list.append((1 / (n ** 3)) * (right - left) ** 3)"
   ]
  },
  {
   "cell_type": "markdown",
   "metadata": {},
   "source": [
    "(a) Left Riemann rule"
   ]
  },
  {
   "cell_type": "code",
   "execution_count": 29,
   "metadata": {},
   "outputs": [
    {
     "data": {
      "image/png": "[encoded data removed]",
      "text/plain": [
       "<Figure size 432x288 with 1 Axes>"
      ]
     },
     "metadata": {
      "needs_background": "light"
     },
     "output_type": "display_data"
    }
   ],
   "source": [
    "plt.plot(N_list,Left_Error_list,label ='Left_Riemann')\n",
    "plt.plot(N_list,On2_list,label='O(n^-2)')\n",
    "plt.plot(N_list, On3_list, label='O(n^-3)')\n",
    "plt.legend()\n",
    "plt.show()"
   ]
  },
  {
   "cell_type": "markdown",
   "metadata": {},
   "source": [
    "(b) Midpoint rule"
   ]
  },
  {
   "cell_type": "code",
   "execution_count": 30,
   "metadata": {},
   "outputs": [
    {
     "data": {
      "image/png": "[encoded data removed]",
      "text/plain": [
       "<Figure size 432x288 with 1 Axes>"
      ]
     },
     "metadata": {
      "needs_background": "light"
     },
     "output_type": "display_data"
    }
   ],
   "source": [
    "plt.plot(N_list, Mid_Error_list, label='Midpoint')\n",
    "plt.plot(N_list, On2_list, label='O(n^-2)')\n",
    "plt.plot(N_list, On3_list, label='O(n^-3)')\n",
    "plt.legend()\n",
    "plt.show()"
   ]
  },
  {
   "cell_type": "markdown",
   "metadata": {},
   "source": [
    "(c) Gauss nodes of your choice (say explicitly why you made that choice)"
   ]
  },
  {
   "cell_type": "code",
   "execution_count": 31,
   "metadata": {},
   "outputs": [
    {
     "name": "stderr",
     "output_type": "stream",
     "text": [
      "E:\\Anaconda3\\lib\\site-packages\\ipykernel_launcher.py:4: RuntimeWarning: divide by zero encountered in long_scalars\n",
      "  after removing the cwd from sys.path.\n"
     ]
    },
    {
     "data": {
      "image/png": "[encoded data removed]",
      "text/plain": [
       "<Figure size 432x288 with 1 Axes>"
      ]
     },
     "metadata": {
      "needs_background": "light"
     },
     "output_type": "display_data"
    }
   ],
   "source": [
    "N_list = np.arange(5, 10, 1)\n",
    "for n in N_list:\n",
    "    Gauss_Error_list.append(abs(fp - gauss_node(left, right, n,f) * np.exp(-r * T)))\n",
    "    On2n_list.append(1/(n**(2*n))) \n",
    "    Onn_list.append(1 / (n ** (n)))\n",
    "plt.plot(N_list, Gauss_Error_list, label='Gauss_node')\n",
    "plt.plot(N_list, On2n_list, label='O(n^-2n)')\n",
    "plt.plot(N_list, Onn_list, label='O(n^-n)')\n",
    "plt.legend()\n",
    "plt.show()"
   ]
  },
  {
   "cell_type": "markdown",
   "metadata": {},
   "source": [
    "As shown above, the Left Reimann's rate of convergence of O(N^-2), and the Mid Point's  rate of convergence is O(N^-2), and the Gaussian's rate of convergence is N(N^-N)"
   ]
  },
  {
   "cell_type": "markdown",
   "metadata": {},
   "source": [
    "4.\tWhich method is your favorite and why?"
   ]
  },
  {
   "cell_type": "markdown",
   "metadata": {},
   "source": [
    "The Gauss nodes method is my favorite because its calculation error is relatively small under small N compared to other two methods and its rate of convergence is faster, meaning that you may come out accurate approximation under limited N."
   ]
  },
  {
   "cell_type": "markdown",
   "metadata": {},
   "source": [
    "# Problem 2: Calculation of  Contingent  Options:  \n",
    "Let S1  be a random variable that takes on  the value of SPY one year from now and let S2 take on the values of SPY 6 months from now. Assume that they are jointly normally distributed with\n",
    "$\\sigma_{1}=20$\n",
    "$\\sigma_{2}=15$\n",
    "$\\rho=0.95$\n",
    "\n",
    "By $\\rho$ here we mean correlation between S1 and S2. Also, assume that interest rate is zero. Please specify where you got the current price of the underlying.\n"
   ]
  },
  {
   "cell_type": "markdown",
   "metadata": {},
   "source": [
    "1.\tEvaluate the price of the one year call on SPY with the strike K1 = 370. This is an example of a vanilla option."
   ]
  },
  {
   "cell_type": "markdown",
   "metadata": {},
   "source": [
    "Given S1 and S2 are jointly normally distributed with\n",
    "$\\sigma_{1}=20$\n",
    "$\\sigma_{2}=15$\n",
    "$\\rho=0.95$\n",
    "the density function of jointly normal distribution is\n",
    "\n",
    "$f(x, y)=\\left(2 \\pi \\sigma_{1} \\sigma_{2} \\sqrt{1-\\rho^{2}}\\right)^{-1} \\exp \\left[-\\frac{1}{2\\left(1-\\rho^{2}\\right)}\\left(\\frac{\\left(x-\\mu_{1}\\right)^{2}}{\\sigma_{1}^{2}}-\\frac{2 \\rho\\left(x-\\mu_{1}\\right)\\left(y-\\mu_{2}\\right)}{\\sigma_{1} \\sigma_{2}}+\\frac{\\left(y-\\mu_{2}\\right)^{2}}{\\sigma_{2}^{2}}\\right)\\right]$\n",
    "\n",
    "while the two marginal distributions are all normal distribution that\n",
    "\n",
    "$f(x)=\\frac{1}{\\sqrt{2 \\pi} \\sigma} e^{-\\frac{(x-\\mu)^{2}}{2 \\sigma^{2}}}$"
   ]
  },
  {
   "cell_type": "code",
   "execution_count": 32,
   "metadata": {},
   "outputs": [
    {
     "name": "stdout",
     "output_type": "stream",
     "text": [
      "247.74000549316406\n"
     ]
    }
   ],
   "source": [
    "spy = pdr.get_data_yahoo('SPY')\n",
    "S0 = spy.loc[:,'Close'][-1]\n",
    "print(S0)"
   ]
  },
  {
   "cell_type": "markdown",
   "metadata": {},
   "source": [
    "Through yfinance I acquier the current price of the underlying(SPY) given by yahoo finance website, which is 329.05999755859375 on Feb,4th,2020."
   ]
  },
  {
   "cell_type": "code",
   "execution_count": 33,
   "metadata": {},
   "outputs": [],
   "source": [
    "sigmax = 20\n",
    "rho = 0.95\n",
    "r = 0\n",
    "Tx = 1\n",
    "Kx = 370"
   ]
  },
  {
   "cell_type": "code",
   "execution_count": 34,
   "metadata": {},
   "outputs": [],
   "source": [
    "ux = S0 * np.exp(r * Tx)\n",
    "vx = sigmax"
   ]
  },
  {
   "cell_type": "code",
   "execution_count": 35,
   "metadata": {},
   "outputs": [
    {
     "name": "stdout",
     "output_type": "stream",
     "text": [
      "1.4972720338882645e-09\n"
     ]
    }
   ],
   "source": [
    "fx = lambda x: (x - Kx) * np.exp(-(x - ux) ** 2 / (2 * vx ** 2)) / (np.sqrt(2 * np.pi) * vx)\n",
    "left_x = Kx\n",
    "right_x = ux + 7*vx\n",
    "X = gauss_node(left_x,right_x,100,fx)*np.exp(-r*Tx)\n",
    "print(X)"
   ]
  },
  {
   "cell_type": "markdown",
   "metadata": {},
   "source": [
    "So the price of the one year call on SPY with the strike K1 = 370 is 0.14958482340672705."
   ]
  },
  {
   "cell_type": "markdown",
   "metadata": {},
   "source": [
    "2.\tEvaluate the price of the one year call on SPY with the strike K1 = 370, contingent on SPY at 6 months being below 365. This is a contingent option."
   ]
  },
  {
   "cell_type": "code",
   "execution_count": 36,
   "metadata": {},
   "outputs": [],
   "source": [
    "# def double_gauss_node_outer(a,b,c,d,N,func):\n",
    "#     z1 = Symbol('z1')\n",
    "#     x, w = np.polynomial.legendre.leggauss(N)\n",
    "#     w = w * (b - a) / 2\n",
    "#     x = (x + 1) * (b - a) / 2 + a\n",
    "#     sum = 0\n",
    "#     for i in np.arange(0, N, 1):\n",
    "#         f = func.subs(z1, x[i])\n",
    "#         result = double_gauss_node_inner(c,d,N,f)\n",
    "#         sum += result * w[i]\n",
    "#     sum = sum.subs(pi,np.pi)\n",
    "#     return sum"
   ]
  },
  {
   "cell_type": "code",
   "execution_count": 37,
   "metadata": {},
   "outputs": [],
   "source": [
    "# def double_gauss_node_inner(a,b,N,func):\n",
    "#     z2 = Symbol('z2')\n",
    "#     x, w = np.polynomial.legendre.leggauss(N)\n",
    "#     w = w * (b - a) / 2\n",
    "#     x = (x + 1) * (b - a) / 2 + a\n",
    "#     sum = 0\n",
    "#     for i in np.arange(0, N, 1):\n",
    "#         f = func.subs(z2, x[i])\n",
    "#         sum += f * w[i]\n",
    "#     return sum"
   ]
  },
  {
   "cell_type": "code",
   "execution_count": 45,
   "metadata": {},
   "outputs": [],
   "source": [
    "def double_gauss_node(a,b,N,func,*args):\n",
    "    x, w = np.polynomial.legendre.leggauss(N)\n",
    "    w = w * (b - a) / 2\n",
    "    x = (x + 1) * (b - a) / 2 + a\n",
    "    sum = 0\n",
    "    if args:\n",
    "        sum = np.sum(np.array([func(args[0],xi) for xi in x]*w))\n",
    "    else:\n",
    "        sum = np.sum(np.array([func(xi) for xi in x]*w))\n",
    "    return sum"
   ]
  },
  {
   "cell_type": "code",
   "execution_count": 61,
   "metadata": {},
   "outputs": [],
   "source": [
    "def contingent_option(rho=0.95,Ky=365):\n",
    "    spy = pdr.get_data_yahoo('SPY')\n",
    "    S0 = spy.loc[:,'Close'][-1]\n",
    "    #S0 =325\n",
    "    sigmax = 20\n",
    "    sigmay = 15\n",
    "    rho = rho\n",
    "    r = 0\n",
    "    Tx = 1\n",
    "    Ty = 0.5\n",
    "    Kx = 370\n",
    "    Ky = Ky\n",
    "    ux = S0 * np.exp(r * Tx)\n",
    "    uy = ux\n",
    "    vx = sigmax\n",
    "    vy = sigmay\n",
    "    \n",
    "    left_x = Kx\n",
    "    right_x = ux + 7*vx\n",
    "    \n",
    "    left_y = ux - 7*vy\n",
    "    right_y = Ky\n",
    "    #z1 = Symbol('z1')\n",
    "    #z2 = Symbol('z2')\n",
    "    #fxy = (z1 - Kx) * exp(((z1-ux)**2/(vx**2) + (z2-uy)**2/(vy**2) - 2*rho*(z1-ux)*(z2-uy)/(vx*vy))/(-2*(1-rho**2)))\\\n",
    "    #      /(2*pi*vx*vy*np.sqrt(1-rho**2))\n",
    "    #X = double_gauss_node_outer(left_x,right_x,left_y,right_y,100,fxy)\n",
    "    inner_fun = lambda x,y : (x - Kx) * np.exp(((x-ux)**2/(vx**2) + (y-uy)**2/(vy**2) - 2*rho*(x-ux)*(y-uy)/(vx*vy))/(-2*(1-rho**2)))\\\n",
    "          /(2*np.pi*vx*vy*np.sqrt(1-rho**2))\n",
    "    outer_fun = lambda x: double_gauss_node(left_y,right_y,100,inner_fun,x)\n",
    "    X = double_gauss_node(left_x,right_x,100,outer_fun)\n",
    "    return X"
   ]
  },
  {
   "cell_type": "code",
   "execution_count": 62,
   "metadata": {},
   "outputs": [
    {
     "data": {
      "text/plain": [
       "0.0397572096931111"
      ]
     },
     "execution_count": 62,
     "metadata": {},
     "output_type": "execute_result"
    }
   ],
   "source": [
    "contingent_option()"
   ]
  },
  {
   "cell_type": "markdown",
   "metadata": {},
   "source": [
    "So the price of the one year call on SPY with the strike K1 = 370, contingent on SPY at 6 months being below 365 is 0.0570287431029557."
   ]
  },
  {
   "cell_type": "markdown",
   "metadata": {},
   "source": [
    "3.\tCalculate the contingent option again, but with ρ = 0.8, ρ = 0.5, and ρ = 0.2."
   ]
  },
  {
   "cell_type": "code",
   "execution_count": 63,
   "metadata": {},
   "outputs": [
    {
     "name": "stdout",
     "output_type": "stream",
     "text": [
      "[0.083269168772275, 0.0775216935250535, 0.059758138495458565]\n"
     ]
    }
   ],
   "source": [
    "rho_list = [0.2, 0.5, 0.8]\n",
    "price = []\n",
    "for r in rho_list:\n",
    "    price.append(contingent_option(rho=r))\n",
    "print(price)"
   ]
  },
  {
   "cell_type": "markdown",
   "metadata": {},
   "source": [
    "The price of the contingent option with ρ = 0.8, ρ = 0.5, and ρ = 0.2 is 0.0947796809845079, 0.131281546404219 and 0.145123965330501."
   ]
  },
  {
   "cell_type": "markdown",
   "metadata": {},
   "source": [
    "4.\tDoes dependence on ρ make sense?"
   ]
  },
  {
   "cell_type": "markdown",
   "metadata": {},
   "source": [
    "Yes, the higher the dependence ρ is, the higher the correlation between S1 and S2. Then if SPY at 6 months is below 365 given K1 = 370 and current price of SPY under 370, the higher the correlation between S1 and S2, the less possibly the price of SPY at 1 year will be higher than K1. So the price of option will be negatively related to ρ."
   ]
  },
  {
   "cell_type": "markdown",
   "metadata": {},
   "source": [
    "5.\tCalculate the contingent option again, but with SPY at 6 months below 360, 350, and 340."
   ]
  },
  {
   "cell_type": "code",
   "execution_count": 79,
   "metadata": {},
   "outputs": [
    {
     "name": "stdout",
     "output_type": "stream",
     "text": [
      "[2.03005104528239e-7, 0.000395352623104485, 0.0215870231113161]\n"
     ]
    }
   ],
   "source": [
    "Ky_list = [340, 350, 360]\n",
    "price = []\n",
    "for k in Ky_list:\n",
    "    price.append(contingent_option(Ky=k))\n",
    "print(price)"
   ]
  },
  {
   "cell_type": "markdown",
   "metadata": {},
   "source": [
    "The price of the contingent option with SPY at 6 months below 360, 350, and 340 is 0.0215870231113161, 0.000395352623104485 and 2.03005104528239e-7."
   ]
  },
  {
   "cell_type": "markdown",
   "metadata": {},
   "source": [
    "6.\tDoes the dependence on the 6 month value make sense?"
   ]
  },
  {
   "cell_type": "markdown",
   "metadata": {},
   "source": [
    "Yes,under given correlation between S1 and S2, plus current value of SPY below K1 = 370, the higher the 6 month value, the more possibly the price of SPY at 1 year will be higher than K1. So the price of option will be positively related to the 6 month value."
   ]
  },
  {
   "cell_type": "markdown",
   "metadata": {},
   "source": [
    "7.\tUnder what conditions do you think the price of the contingent option will equal the price of the vanilla one?"
   ]
  },
  {
   "cell_type": "markdown",
   "metadata": {},
   "source": [
    "According to the dependence on ρ and the 6 month value mentioned above,there are serval conditions under which the price of the contingent option will equal the price of the vanilla one."
   ]
  },
  {
   "cell_type": "markdown",
   "metadata": {},
   "source": [
    "a) when S1 and S2 are highly positively related, the higher the 6 month value, the closer the price of the contingent option toward the price of the vanilla one."
   ]
  },
  {
   "cell_type": "code",
   "execution_count": 80,
   "metadata": {},
   "outputs": [
    {
     "name": "stdout",
     "output_type": "stream",
     "text": [
      "[0.0965612589597252, 0.149525539068984, 0.149584822715697, 0.149584823406727, 0.149584823406728]\n",
      "0.14958482340672705\n"
     ]
    }
   ],
   "source": [
    "Ky_list = [370, 400, 430, 460, 490]\n",
    "price = []\n",
    "for k in Ky_list:\n",
    "    price.append(contingent_option(Ky=k))\n",
    "print(price)\n",
    "print(X)"
   ]
  },
  {
   "cell_type": "markdown",
   "metadata": {},
   "source": [
    "b) when S1 and S2 are highly negatively related, the lower the 6 month value, the closer the price of the contingent option toward the price of the vanilla one"
   ]
  },
  {
   "cell_type": "code",
   "execution_count": 81,
   "metadata": {},
   "outputs": [
    {
     "name": "stdout",
     "output_type": "stream",
     "text": [
      "[4.25336969094275e-6, 0.0140767875349622, 0.149457077794480, 0.149584823319029, 0.149584823319029]\n",
      "0.14958482340672705\n"
     ]
    }
   ],
   "source": [
    "Ky_list = [250, 280, 310, 340, 370]\n",
    "price = []\n",
    "for k in Ky_list:\n",
    "    price.append(contingent_option(rho=-0.95,Ky=k))\n",
    "print(price)\n",
    "print(X)"
   ]
  },
  {
   "cell_type": "markdown",
   "metadata": {},
   "source": [
    "c) when S1 and S2 are not related, the higher the 6 month value shall be away from the current price of SPY, the closer the price of the contingent option toward the price of the vanilla one"
   ]
  },
  {
   "cell_type": "code",
   "execution_count": 82,
   "metadata": {},
   "outputs": [
    {
     "name": "stdout",
     "output_type": "stream",
     "text": [
      "[4.73753692523834e-6, 0.00340307446975660, 0.0747924117031714, 0.146181748936588, 0.149580085869419]\n",
      "0.14958482340672705\n"
     ]
    }
   ],
   "source": [
    "Ky_list = [S0-60, S0-30, S0, S0+30, S0+60]\n",
    "price = []\n",
    "for k in Ky_list:\n",
    "    price.append(contingent_option(rho=0,Ky=k))\n",
    "print(price)\n",
    "print(X)"
   ]
  }
 ],
 "metadata": {
  "kernelspec": {
   "display_name": "Python 3",
   "language": "python",
   "name": "python3"
  },
  "language_info": {
   "codemirror_mode": {
    "name": "ipython",
    "version": 3
   },
   "file_extension": ".py",
   "mimetype": "text/x-python",
   "name": "python",
   "nbconvert_exporter": "python",
   "pygments_lexer": "ipython3",
   "version": "3.7.3"
  }
 },
 "nbformat": 4,
 "nbformat_minor": 2
}
